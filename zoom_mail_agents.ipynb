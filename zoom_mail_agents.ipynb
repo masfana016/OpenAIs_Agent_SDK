{
  "cells": [
    {
      "cell_type": "markdown",
      "metadata": {
        "id": "view-in-github",
        "colab_type": "text"
      },
      "source": [
        "<a href=\"https://colab.research.google.com/github/masfana016/OpenAIs_Agent_SDK/blob/main/zoom_mail_agents.ipynb\" target=\"_parent\"><img src=\"https://colab.research.google.com/assets/colab-badge.svg\" alt=\"Open In Colab\"/></a>"
      ]
    },
    {
      "cell_type": "code",
      "execution_count": null,
      "metadata": {
        "id": "dhTBfW3r-ERH",
        "colab": {
          "base_uri": "https://localhost:8080/"
        },
        "outputId": "91d487e5-6f19-4b2f-9294-dca1bafa501a"
      },
      "outputs": [
        {
          "output_type": "stream",
          "name": "stdout",
          "text": [
            "\u001b[2K     \u001b[90m━━━━━━━━━━━━━━━━━━━━━━━━━━━━━━━━━━━━━━━\u001b[0m \u001b[32m68.7/68.7 kB\u001b[0m \u001b[31m736.1 kB/s\u001b[0m eta \u001b[36m0:00:00\u001b[0m\n",
            "\u001b[2K   \u001b[90m━━━━━━━━━━━━━━━━━━━━━━━━━━━━━━━━━━━━━━━━\u001b[0m \u001b[32m168.5/168.5 kB\u001b[0m \u001b[31m2.0 MB/s\u001b[0m eta \u001b[36m0:00:00\u001b[0m\n",
            "\u001b[2K   \u001b[90m━━━━━━━━━━━━━━━━━━━━━━━━━━━━━━━━━━━━━━━━\u001b[0m \u001b[32m138.9/138.9 kB\u001b[0m \u001b[31m5.2 MB/s\u001b[0m eta \u001b[36m0:00:00\u001b[0m\n",
            "\u001b[2K   \u001b[90m━━━━━━━━━━━━━━━━━━━━━━━━━━━━━━━━━━━━━━━━\u001b[0m \u001b[32m160.2/160.2 kB\u001b[0m \u001b[31m6.3 MB/s\u001b[0m eta \u001b[36m0:00:00\u001b[0m\n",
            "\u001b[2K   \u001b[90m━━━━━━━━━━━━━━━━━━━━━━━━━━━━━━━━━━━━━━━━\u001b[0m \u001b[32m45.2/45.2 kB\u001b[0m \u001b[31m2.7 MB/s\u001b[0m eta \u001b[36m0:00:00\u001b[0m\n",
            "\u001b[?25h"
          ]
        }
      ],
      "source": [
        "!pip install -Uq openai-agents"
      ]
    },
    {
      "cell_type": "code",
      "execution_count": null,
      "metadata": {
        "id": "d-wr2XtM-IbH"
      },
      "outputs": [],
      "source": [
        "import nest_asyncio\n",
        "nest_asyncio.apply()"
      ]
    },
    {
      "cell_type": "code",
      "execution_count": null,
      "metadata": {
        "id": "HVhrbdmo-JC5"
      },
      "outputs": [],
      "source": [
        "from google.colab import userdata\n",
        "gemini_api_key = userdata.get(\"GOOGLE_API_KEY\")"
      ]
    },
    {
      "cell_type": "code",
      "execution_count": null,
      "metadata": {
        "id": "uyst4IN4FmxM"
      },
      "outputs": [],
      "source": [
        "from agents import set_tracing_export_api_key, Agent, Runner\n",
        "\n",
        "tracing_api_key = userdata.get(\"OPENAI_API_KEY\")\n",
        "set_tracing_export_api_key(tracing_api_key)"
      ]
    },
    {
      "cell_type": "code",
      "execution_count": null,
      "metadata": {
        "id": "tQKVDkap-NwR"
      },
      "outputs": [],
      "source": [
        "from agents import AsyncOpenAI, OpenAIChatCompletionsModel, RunConfig\n",
        "\n",
        "client = AsyncOpenAI(api_key=gemini_api_key, base_url=\"https://generativelanguage.googleapis.com/v1beta/openai/\",)\n",
        "\n",
        "model = OpenAIChatCompletionsModel(model=\"gemini-2.5-flash\", openai_client=client)\n",
        "\n",
        "config = RunConfig(model = model,\n",
        "                   model_provider = client,\n",
        "                   tracing_disabled = False\n",
        "                   )"
      ]
    },
    {
      "cell_type": "code",
      "execution_count": null,
      "metadata": {
        "id": "pZqT4mPk-Yl6"
      },
      "outputs": [],
      "source": [
        "from agents import function_tool\n",
        "import requests\n",
        "import json\n",
        "from datetime import datetime\n",
        "import pytz\n",
        "\n",
        "# Define timezone for Pakistan\n",
        "PKT = pytz.timezone('Asia/Karachi')\n",
        "\n",
        "\n",
        "CLIENT_ID = userdata.get(\"ZOOM_CLIENT_ID\")\n",
        "CLIENT_SECRET = userdata.get(\"ZOOM_CLIENT_SECRET\")\n",
        "ACCOUNT_ID = userdata.get(\"ZOOM_ACCOUNT_ID\")\n",
        "\n",
        "def get_access_token():\n",
        "    url = \"https://zoom.us/oauth/token\"\n",
        "    headers = {\n",
        "        \"Content-Type\": \"application/x-www-form-urlencoded\"\n",
        "    }\n",
        "    payload = {\n",
        "        \"grant_type\": \"account_credentials\",\n",
        "        \"account_id\": ACCOUNT_ID\n",
        "    }\n",
        "    auth = (CLIENT_ID, CLIENT_SECRET)\n",
        "\n",
        "    response = requests.post(url, headers=headers, data=payload, auth=auth)\n",
        "    try:\n",
        "        return response.json()[\"access_token\"]\n",
        "    except KeyError:\n",
        "        return {\n",
        "            \"error\": \"Failed to fetch token\",\n",
        "            \"status_code\": response.status_code,\n",
        "            \"response\": response.text\n",
        "        }\n",
        "\n",
        "def getUsers():\n",
        "    \"\"\"Fetch Zoom user information\"\"\"\n",
        "    token = get_access_token()\n",
        "    if isinstance(token, dict) and \"error\" in token:\n",
        "        return token\n",
        "\n",
        "    headers = {\n",
        "        'authorization': f'Bearer {token}',\n",
        "        'content-type': 'application/json'\n",
        "    }\n",
        "    response = requests.get('https://api.zoom.us/v2/users/', headers=headers)\n",
        "    return response.json()\n",
        "\n",
        "def getMeetingParticipants(meeting_id):\n",
        "    \"\"\"Fetch participants of a live Zoom meeting by meeting_id\"\"\"\n",
        "    token = get_access_token()\n",
        "    if isinstance(token, dict) and \"error\" in token:\n",
        "        return token\n",
        "\n",
        "    headers = {\n",
        "        'authorization': f'Bearer {token}',\n",
        "        'content-type': 'application/json'\n",
        "    }\n",
        "    response = requests.get(\n",
        "        f'https://api.zoom.us/v2/metrics/meetings/{meeting_id}/participants',\n",
        "        headers=headers\n",
        "    )\n",
        "    return response.json()\n",
        "\n",
        "def convert_appointment_time_to_zoom_format(appointment_time):\n",
        "    \"\"\"Convert the appointment time from 'DD-MM-YYYY HH:MM:SS' to 'YYYY-MM-DDTHH:MM:SS' format\"\"\"\n",
        "    # Parse the appointment time string to a datetime object\n",
        "    appointment_dt = datetime.strptime(appointment_time, \"%d-%m-%Y %H:%M:%S\")\n",
        "\n",
        "    # Convert it to Pakistan's timezone\n",
        "    appointment_dt = PKT.localize(appointment_dt)\n",
        "\n",
        "    # Convert the datetime object to the desired string format\n",
        "    return appointment_dt.strftime(\"%Y-%m-%dT%H:%M:%S\")\n",
        "\n",
        "meetingdetails = {\n",
        "    \"topic\": \"Telemedicine\",\n",
        "    \"type\": 2,\n",
        "    \"start_time\": \"14-05-2025 10:21:57\",\n",
        "    \"duration\": \"45\",\n",
        "    \"timezone\": \"Asia/Karachi\",\n",
        "    \"agenda\": \"test\",\n",
        "    \"recurrence\": {\n",
        "        \"type\": 1,\n",
        "        \"repeat_interval\": 1\n",
        "    },\n",
        "    \"settings\": {\n",
        "        \"host_video\": True,\n",
        "        \"participant_video\": True,\n",
        "        \"join_before_host\": False,\n",
        "        \"mute_upon_entry\": False,\n",
        "        \"watermark\": True,\n",
        "        \"audio\": \"voip\",\n",
        "        \"auto_recording\": \"cloud\"\n",
        "    }\n",
        "}\n",
        "\n",
        "@function_tool\n",
        "def createMeeting():\n",
        "    \"\"\"Create a new Zoom meeting and return details\"\"\"\n",
        "    token = get_access_token()\n",
        "    if isinstance(token, dict) and \"error\" in token:\n",
        "        return token\n",
        "\n",
        "    headers = {\n",
        "        'authorization': f'Bearer {token}',\n",
        "        'content-type': 'application/json'\n",
        "    }\n",
        "\n",
        "    response = requests.post(\n",
        "        'https://api.zoom.us/v2/users/me/meetings',\n",
        "        headers=headers,\n",
        "        data=json.dumps(meetingdetails)\n",
        "    )\n",
        "\n",
        "    if response.status_code == 201:\n",
        "        return response.json()\n",
        "    else:\n",
        "        return {\n",
        "            \"error\": \"Failed to create meeting\",\n",
        "            \"status_code\": response.status_code,\n",
        "            \"response\": response.text\n",
        "        }"
      ]
    },
    {
      "cell_type": "code",
      "execution_count": null,
      "metadata": {
        "id": "n-OjEo7a-c9y"
      },
      "outputs": [],
      "source": [
        "from agents import function_tool\n",
        "import smtplib\n",
        "from email.mime.multipart import MIMEMultipart\n",
        "from email.mime.text import MIMEText\n",
        "\n",
        "@function_tool\n",
        "def send_email(to_email: str, subject: str, body: str):\n",
        "    \"\"\"\n",
        "    Sends an email using Gmail's SMTP server.\n",
        "\n",
        "    Parameters:\n",
        "    to_email (str): Recipient email address.\n",
        "    subject (str): Subject of the email.\n",
        "    body (str): Body content of the email.\n",
        "\n",
        "    Returns:\n",
        "    None\n",
        "    \"\"\"\n",
        "\n",
        "    email_address = userdata.get('EMAIL_ADDRESS')\n",
        "    APP_PASSWORD = userdata.get('APP_PASSWORD')\n",
        "\n",
        "    try:\n",
        "        with smtplib.SMTP_SSL(host=\"smtp.gmail.com\", port=465) as server:\n",
        "            server.login(email_address, APP_PASSWORD)\n",
        "\n",
        "            msg = MIMEMultipart()\n",
        "            msg['From'] = email_address\n",
        "            msg['To'] = to_email\n",
        "            msg['Subject'] = subject\n",
        "            msg.attach(MIMEText(body, 'plain'))\n",
        "\n",
        "            server.send_message(msg)\n",
        "        print(\"Email sent successfully!\")\n",
        "    except Exception as e:\n",
        "        print(f\"Error: {str(e)}\")"
      ]
    },
    {
      "cell_type": "code",
      "execution_count": null,
      "metadata": {
        "id": "3GaICTpe-iLB"
      },
      "outputs": [],
      "source": [
        "from agents import Agent, Runner\n",
        "import asyncio\n",
        "\n",
        "email_agent = Agent(name=\"Email Assistant\",\n",
        "                      instructions=\"\"\" Be a helpfull Email assistant. Whenever ## **Sending Emails automatically creatig a zoom meeting details**:\n",
        "                      - After successfully generate a zoom meeting detail, generate well-structured and contextually email bodies with those generated email details and send to the given email address.\n",
        "                      Sending Emails**:\n",
        "                      - Generate well-structured and contextually relevant email bodies based on user requests.\n",
        "                      - Send emails using Gmail's SMTP server, utilizing the provided recipient email address, subject, and body content.\n",
        "                      - If replying to an email, ensure the recipient's email address is correctly identified from the previously read emails.\n",
        "                      - Support attaching files to outgoing emails if requested by the user.\n",
        "                        \"\"\",\n",
        "                      tools = [send_email],\n",
        "                      handoff_description=\"Use this agent to send emails with the Zoom meeting details after a meeting is successfully created, or to handle any other email-related tasks such as replying or composing new messages.\"\n",
        "                      )\n",
        "\n",
        "zoom_agent = Agent(name=\"Zoom Assistant\",\n",
        "                      instructions=\"\"\" Be a helpfull zoom meeting assistant. Whenever user ask to create a zoom meeting.\n",
        "                      **Zoom Meeting Creation**:\n",
        "                        - The Zoom meeting is configured with the following details (as per the provided `meetingdetails`):\n",
        "                          - Topic: \"Telemedicine\"\n",
        "                          - Type: Scheduled meeting\n",
        "                          - Start Time: Aligned with the appointment's day and time\n",
        "                          - Duration: 45 minutes\n",
        "                          - Timezone: Asia/Karachi\n",
        "                          - Settings: Host and participant video enabled, watermark enabled, cloud auto-recording, etc.\n",
        "                        - After the meeting is created, include the following in the confirmation message and email:\n",
        "                          - Meeting ID\n",
        "                          - Join URL (for participants)\n",
        "                          - Password\n",
        "                          - Start Time\n",
        "                          - Host Start URL (if applicable)\n",
        "                        - Ensure the meeting details are stored and retrievable when the user views their appointment details.\n",
        "                        \"\"\",\n",
        "                      tools = [createMeeting],\n",
        "                      handoffs=[email_agent]\n",
        "                      )"
      ]
    },
    {
      "cell_type": "code",
      "execution_count": null,
      "metadata": {
        "id": "i-VYS1N8-oY1"
      },
      "outputs": [],
      "source": [
        "from agents import Runner\n",
        "\n",
        "async def main():\n",
        "\n",
        "  while True:\n",
        "    agent = zoom_agent\n",
        "    result = await Runner.run(\n",
        "        agent,\n",
        "        input= input(\"How Can I help you with? \"),\n",
        "        run_config=config,\n",
        "    )\n",
        "\n",
        "    print(f\"Response: {result.to_input_list()[-1]['content'][0]['text'].strip()}\")\n",
        "\n",
        "if __name__ == \"__main__\":\n",
        "  asyncio.run(main())\n"
      ]
    }
  ],
  "metadata": {
    "colab": {
      "provenance": [],
      "authorship_tag": "ABX9TyNVfOJx4NPvqAw0Q1fUHMmG",
      "include_colab_link": true
    },
    "kernelspec": {
      "display_name": "Python 3",
      "name": "python3"
    },
    "language_info": {
      "name": "python"
    }
  },
  "nbformat": 4,
  "nbformat_minor": 0
}