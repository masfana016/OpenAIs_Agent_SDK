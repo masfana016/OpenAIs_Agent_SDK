{
  "cells": [
    {
      "cell_type": "markdown",
      "metadata": {
        "id": "view-in-github",
        "colab_type": "text"
      },
      "source": [
        "<a href=\"https://colab.research.google.com/github/masfana016/OpenAIs_Agent_SDK/blob/main/simple_handoff.ipynb\" target=\"_parent\"><img src=\"https://colab.research.google.com/assets/colab-badge.svg\" alt=\"Open In Colab\"/></a>"
      ]
    },
    {
      "cell_type": "code",
      "execution_count": 15,
      "metadata": {
        "id": "VUYwGiizm3rU"
      },
      "outputs": [],
      "source": [
        "!pip install -Uq openai-agents"
      ]
    },
    {
      "cell_type": "code",
      "execution_count": 16,
      "metadata": {
        "id": "_nqfmU6kqupF"
      },
      "outputs": [],
      "source": [
        "import nest_asyncio\n",
        "nest_asyncio.apply()"
      ]
    },
    {
      "cell_type": "code",
      "execution_count": 17,
      "metadata": {
        "id": "cou7S_2DrF1z"
      },
      "outputs": [],
      "source": [
        "from google.colab import userdata\n",
        "gemini_api_key = userdata.get(\"GOOGLE_API_KEY\")"
      ]
    },
    {
      "cell_type": "markdown",
      "metadata": {
        "id": "1747yj0qsRcg"
      },
      "source": [
        "##Global"
      ]
    },
    {
      "cell_type": "code",
      "execution_count": 18,
      "metadata": {
        "id": "ROodpggGsQTh"
      },
      "outputs": [],
      "source": [
        "from agents import AsyncOpenAI, set_default_openai_client, set_tracing_disabled, set_default_openai_api\n",
        "\n",
        "set_tracing_disabled(True)\n",
        "set_default_openai_api(\"chat_completions\")\n",
        "\n",
        "external_client = AsyncOpenAI(\n",
        "    api_key=gemini_api_key,\n",
        "    base_url=\"https://generativelanguage.googleapis.com/v1beta/openai/\",\n",
        ")\n",
        "set_default_openai_client(external_client)"
      ]
    },
    {
      "cell_type": "markdown",
      "metadata": {
        "id": "Qn-lBGfV1dMh"
      },
      "source": [
        "###Handoff Concept"
      ]
    },
    {
      "cell_type": "code",
      "execution_count": 24,
      "metadata": {
        "id": "zE_ne2m0vLA8",
        "collapsed": true
      },
      "outputs": [],
      "source": [
        "from agents import Agent, Runner\n",
        "import asyncio\n",
        "\n",
        "spenish_agent = Agent(name=\"spenish_agent\", instructions='You are a helpful assistant, who guide user whenver they wat to talk in spenish language.', model = 'gemini-2.5-flash')\n",
        "\n",
        "urdu_agent = Agent(name=\"urdu_agent\", instructions='You are a helpful assistant, who guide user whenver they wat to talk in urdu language.', model = 'gemini-2.5-flash')\n",
        "\n",
        "triage_agent = Agent(name = \"Assistant\", instructions=\"Be a helpful assistant. If the user wants to speaks Spanish, handoff to the Spanish assistant. But If the user wants to Urdu Spanish, handoff to the Urdu assistant. \", model = 'gemini-2.5-flash', handoffs = [spenish_agent, urdu_agent])\n",
        "\n"
      ]
    },
    {
      "cell_type": "code",
      "source": [
        "from agents import Runner\n",
        "from agents import enable_verbose_stdout_logging\n",
        "\n",
        "enable_verbose_stdout_logging()\n",
        "\n",
        "async def main():\n",
        "\n",
        "  result = await Runner.run(\n",
        "      triage_agent,\n",
        "      input= 'Convert \"I m a good girl\" in Urdu'\n",
        "  )\n",
        "\n",
        "  print(f\"Response: {result.final_output}\")\n",
        "\n",
        "if __name__ == \"__main__\":\n",
        "  asyncio.run(main())\n"
      ],
      "metadata": {
        "colab": {
          "base_uri": "https://localhost:8080/"
        },
        "id": "38TueFN1EkLo",
        "outputId": "7ee064ca-6dee-48c7-b8e8-b7aaa1027d23"
      },
      "execution_count": 26,
      "outputs": [
        {
          "output_type": "stream",
          "name": "stdout",
          "text": [
            "Tracing is disabled. Not creating trace Agent workflow\n",
            "Tracing is disabled. Not creating trace Agent workflow\n",
            "Tracing is disabled. Not creating trace Agent workflow\n",
            "Tracing is disabled. Not creating trace Agent workflow\n"
          ]
        },
        {
          "output_type": "stream",
          "name": "stderr",
          "text": [
            "DEBUG:openai.agents:Tracing is disabled. Not creating trace Agent workflow\n"
          ]
        },
        {
          "output_type": "stream",
          "name": "stdout",
          "text": [
            "Setting current trace: no-op\n",
            "Setting current trace: no-op\n",
            "Setting current trace: no-op\n",
            "Setting current trace: no-op\n"
          ]
        },
        {
          "output_type": "stream",
          "name": "stderr",
          "text": [
            "DEBUG:openai.agents:Setting current trace: no-op\n"
          ]
        },
        {
          "output_type": "stream",
          "name": "stdout",
          "text": [
            "Tracing is disabled. Not creating span <agents.tracing.span_data.AgentSpanData object at 0x7deeca3c8ad0>\n",
            "Tracing is disabled. Not creating span <agents.tracing.span_data.AgentSpanData object at 0x7deeca3c8ad0>\n",
            "Tracing is disabled. Not creating span <agents.tracing.span_data.AgentSpanData object at 0x7deeca3c8ad0>\n",
            "Tracing is disabled. Not creating span <agents.tracing.span_data.AgentSpanData object at 0x7deeca3c8ad0>\n"
          ]
        },
        {
          "output_type": "stream",
          "name": "stderr",
          "text": [
            "DEBUG:openai.agents:Tracing is disabled. Not creating span <agents.tracing.span_data.AgentSpanData object at 0x7deeca3c8ad0>\n"
          ]
        },
        {
          "output_type": "stream",
          "name": "stdout",
          "text": [
            "Running agent Assistant (turn 1)\n",
            "Running agent Assistant (turn 1)\n",
            "Running agent Assistant (turn 1)\n",
            "Running agent Assistant (turn 1)\n"
          ]
        },
        {
          "output_type": "stream",
          "name": "stderr",
          "text": [
            "DEBUG:openai.agents:Running agent Assistant (turn 1)\n"
          ]
        },
        {
          "output_type": "stream",
          "name": "stdout",
          "text": [
            "Tracing is disabled. Not creating span <agents.tracing.span_data.GenerationSpanData object at 0x7deec93c0b30>\n",
            "Tracing is disabled. Not creating span <agents.tracing.span_data.GenerationSpanData object at 0x7deec93c0b30>\n",
            "Tracing is disabled. Not creating span <agents.tracing.span_data.GenerationSpanData object at 0x7deec93c0b30>\n",
            "Tracing is disabled. Not creating span <agents.tracing.span_data.GenerationSpanData object at 0x7deec93c0b30>\n"
          ]
        },
        {
          "output_type": "stream",
          "name": "stderr",
          "text": [
            "DEBUG:openai.agents:Tracing is disabled. Not creating span <agents.tracing.span_data.GenerationSpanData object at 0x7deec93c0b30>\n"
          ]
        },
        {
          "output_type": "stream",
          "name": "stdout",
          "text": [
            "[\n",
            "  {\n",
            "    \"content\": \"Be a helpful assistant. If the user wants to speaks Spanish, handoff to the Spanish assistant. But If the user wants to Urdu Spanish, handoff to the Urdu assistant. \",\n",
            "    \"role\": \"system\"\n",
            "  },\n",
            "  {\n",
            "    \"role\": \"user\",\n",
            "    \"content\": \"Convert \\\"I m a good girl\\\" in Urdu\"\n",
            "  }\n",
            "]\n",
            "Tools:\n",
            "[\n",
            "  {\n",
            "    \"type\": \"function\",\n",
            "    \"function\": {\n",
            "      \"name\": \"transfer_to_spenish_agent\",\n",
            "      \"description\": \"Handoff to the spenish_agent agent to handle the request. \",\n",
            "      \"parameters\": {\n",
            "        \"additionalProperties\": false,\n",
            "        \"type\": \"object\",\n",
            "        \"properties\": {},\n",
            "        \"required\": []\n",
            "      }\n",
            "    }\n",
            "  },\n",
            "  {\n",
            "    \"type\": \"function\",\n",
            "    \"function\": {\n",
            "      \"name\": \"transfer_to_urdu_agent\",\n",
            "      \"description\": \"Handoff to the urdu_agent agent to handle the request. \",\n",
            "      \"parameters\": {\n",
            "        \"additionalProperties\": false,\n",
            "        \"type\": \"object\",\n",
            "        \"properties\": {},\n",
            "        \"required\": []\n",
            "      }\n",
            "    }\n",
            "  }\n",
            "]\n",
            "Stream: False\n",
            "Tool choice: NOT_GIVEN\n",
            "Response format: NOT_GIVEN\n",
            "\n",
            "[\n",
            "  {\n",
            "    \"content\": \"Be a helpful assistant. If the user wants to speaks Spanish, handoff to the Spanish assistant. But If the user wants to Urdu Spanish, handoff to the Urdu assistant. \",\n",
            "    \"role\": \"system\"\n",
            "  },\n",
            "  {\n",
            "    \"role\": \"user\",\n",
            "    \"content\": \"Convert \\\"I m a good girl\\\" in Urdu\"\n",
            "  }\n",
            "]\n",
            "Tools:\n",
            "[\n",
            "  {\n",
            "    \"type\": \"function\",\n",
            "    \"function\": {\n",
            "      \"name\": \"transfer_to_spenish_agent\",\n",
            "      \"description\": \"Handoff to the spenish_agent agent to handle the request. \",\n",
            "      \"parameters\": {\n",
            "        \"additionalProperties\": false,\n",
            "        \"type\": \"object\",\n",
            "        \"properties\": {},\n",
            "        \"required\": []\n",
            "      }\n",
            "    }\n",
            "  },\n",
            "  {\n",
            "    \"type\": \"function\",\n",
            "    \"function\": {\n",
            "      \"name\": \"transfer_to_urdu_agent\",\n",
            "      \"description\": \"Handoff to the urdu_agent agent to handle the request. \",\n",
            "      \"parameters\": {\n",
            "        \"additionalProperties\": false,\n",
            "        \"type\": \"object\",\n",
            "        \"properties\": {},\n",
            "        \"required\": []\n",
            "      }\n",
            "    }\n",
            "  }\n",
            "]\n",
            "Stream: False\n",
            "Tool choice: NOT_GIVEN\n",
            "Response format: NOT_GIVEN\n",
            "\n",
            "[\n",
            "  {\n",
            "    \"content\": \"Be a helpful assistant. If the user wants to speaks Spanish, handoff to the Spanish assistant. But If the user wants to Urdu Spanish, handoff to the Urdu assistant. \",\n",
            "    \"role\": \"system\"\n",
            "  },\n",
            "  {\n",
            "    \"role\": \"user\",\n",
            "    \"content\": \"Convert \\\"I m a good girl\\\" in Urdu\"\n",
            "  }\n",
            "]\n",
            "Tools:\n",
            "[\n",
            "  {\n",
            "    \"type\": \"function\",\n",
            "    \"function\": {\n",
            "      \"name\": \"transfer_to_spenish_agent\",\n",
            "      \"description\": \"Handoff to the spenish_agent agent to handle the request. \",\n",
            "      \"parameters\": {\n",
            "        \"additionalProperties\": false,\n",
            "        \"type\": \"object\",\n",
            "        \"properties\": {},\n",
            "        \"required\": []\n",
            "      }\n",
            "    }\n",
            "  },\n",
            "  {\n",
            "    \"type\": \"function\",\n",
            "    \"function\": {\n",
            "      \"name\": \"transfer_to_urdu_agent\",\n",
            "      \"description\": \"Handoff to the urdu_agent agent to handle the request. \",\n",
            "      \"parameters\": {\n",
            "        \"additionalProperties\": false,\n",
            "        \"type\": \"object\",\n",
            "        \"properties\": {},\n",
            "        \"required\": []\n",
            "      }\n",
            "    }\n",
            "  }\n",
            "]\n",
            "Stream: False\n",
            "Tool choice: NOT_GIVEN\n",
            "Response format: NOT_GIVEN\n",
            "\n",
            "[\n",
            "  {\n",
            "    \"content\": \"Be a helpful assistant. If the user wants to speaks Spanish, handoff to the Spanish assistant. But If the user wants to Urdu Spanish, handoff to the Urdu assistant. \",\n",
            "    \"role\": \"system\"\n",
            "  },\n",
            "  {\n",
            "    \"role\": \"user\",\n",
            "    \"content\": \"Convert \\\"I m a good girl\\\" in Urdu\"\n",
            "  }\n",
            "]\n",
            "Tools:\n",
            "[\n",
            "  {\n",
            "    \"type\": \"function\",\n",
            "    \"function\": {\n",
            "      \"name\": \"transfer_to_spenish_agent\",\n",
            "      \"description\": \"Handoff to the spenish_agent agent to handle the request. \",\n",
            "      \"parameters\": {\n",
            "        \"additionalProperties\": false,\n",
            "        \"type\": \"object\",\n",
            "        \"properties\": {},\n",
            "        \"required\": []\n",
            "      }\n",
            "    }\n",
            "  },\n",
            "  {\n",
            "    \"type\": \"function\",\n",
            "    \"function\": {\n",
            "      \"name\": \"transfer_to_urdu_agent\",\n",
            "      \"description\": \"Handoff to the urdu_agent agent to handle the request. \",\n",
            "      \"parameters\": {\n",
            "        \"additionalProperties\": false,\n",
            "        \"type\": \"object\",\n",
            "        \"properties\": {},\n",
            "        \"required\": []\n",
            "      }\n",
            "    }\n",
            "  }\n",
            "]\n",
            "Stream: False\n",
            "Tool choice: NOT_GIVEN\n",
            "Response format: NOT_GIVEN\n",
            "\n"
          ]
        },
        {
          "output_type": "stream",
          "name": "stderr",
          "text": [
            "DEBUG:openai.agents:[\n",
            "  {\n",
            "    \"content\": \"Be a helpful assistant. If the user wants to speaks Spanish, handoff to the Spanish assistant. But If the user wants to Urdu Spanish, handoff to the Urdu assistant. \",\n",
            "    \"role\": \"system\"\n",
            "  },\n",
            "  {\n",
            "    \"role\": \"user\",\n",
            "    \"content\": \"Convert \\\"I m a good girl\\\" in Urdu\"\n",
            "  }\n",
            "]\n",
            "Tools:\n",
            "[\n",
            "  {\n",
            "    \"type\": \"function\",\n",
            "    \"function\": {\n",
            "      \"name\": \"transfer_to_spenish_agent\",\n",
            "      \"description\": \"Handoff to the spenish_agent agent to handle the request. \",\n",
            "      \"parameters\": {\n",
            "        \"additionalProperties\": false,\n",
            "        \"type\": \"object\",\n",
            "        \"properties\": {},\n",
            "        \"required\": []\n",
            "      }\n",
            "    }\n",
            "  },\n",
            "  {\n",
            "    \"type\": \"function\",\n",
            "    \"function\": {\n",
            "      \"name\": \"transfer_to_urdu_agent\",\n",
            "      \"description\": \"Handoff to the urdu_agent agent to handle the request. \",\n",
            "      \"parameters\": {\n",
            "        \"additionalProperties\": false,\n",
            "        \"type\": \"object\",\n",
            "        \"properties\": {},\n",
            "        \"required\": []\n",
            "      }\n",
            "    }\n",
            "  }\n",
            "]\n",
            "Stream: False\n",
            "Tool choice: NOT_GIVEN\n",
            "Response format: NOT_GIVEN\n",
            "\n"
          ]
        },
        {
          "output_type": "stream",
          "name": "stdout",
          "text": [
            "LLM resp:\n",
            "{\n",
            "  \"content\": null,\n",
            "  \"refusal\": null,\n",
            "  \"role\": \"assistant\",\n",
            "  \"annotations\": null,\n",
            "  \"audio\": null,\n",
            "  \"function_call\": null,\n",
            "  \"tool_calls\": [\n",
            "    {\n",
            "      \"id\": \"\",\n",
            "      \"function\": {\n",
            "        \"arguments\": \"{}\",\n",
            "        \"name\": \"transfer_to_urdu_agent\"\n",
            "      },\n",
            "      \"type\": \"function\"\n",
            "    }\n",
            "  ]\n",
            "}\n",
            "\n",
            "LLM resp:\n",
            "{\n",
            "  \"content\": null,\n",
            "  \"refusal\": null,\n",
            "  \"role\": \"assistant\",\n",
            "  \"annotations\": null,\n",
            "  \"audio\": null,\n",
            "  \"function_call\": null,\n",
            "  \"tool_calls\": [\n",
            "    {\n",
            "      \"id\": \"\",\n",
            "      \"function\": {\n",
            "        \"arguments\": \"{}\",\n",
            "        \"name\": \"transfer_to_urdu_agent\"\n",
            "      },\n",
            "      \"type\": \"function\"\n",
            "    }\n",
            "  ]\n",
            "}\n",
            "\n",
            "LLM resp:\n",
            "{\n",
            "  \"content\": null,\n",
            "  \"refusal\": null,\n",
            "  \"role\": \"assistant\",\n",
            "  \"annotations\": null,\n",
            "  \"audio\": null,\n",
            "  \"function_call\": null,\n",
            "  \"tool_calls\": [\n",
            "    {\n",
            "      \"id\": \"\",\n",
            "      \"function\": {\n",
            "        \"arguments\": \"{}\",\n",
            "        \"name\": \"transfer_to_urdu_agent\"\n",
            "      },\n",
            "      \"type\": \"function\"\n",
            "    }\n",
            "  ]\n",
            "}\n",
            "\n",
            "LLM resp:\n",
            "{\n",
            "  \"content\": null,\n",
            "  \"refusal\": null,\n",
            "  \"role\": \"assistant\",\n",
            "  \"annotations\": null,\n",
            "  \"audio\": null,\n",
            "  \"function_call\": null,\n",
            "  \"tool_calls\": [\n",
            "    {\n",
            "      \"id\": \"\",\n",
            "      \"function\": {\n",
            "        \"arguments\": \"{}\",\n",
            "        \"name\": \"transfer_to_urdu_agent\"\n",
            "      },\n",
            "      \"type\": \"function\"\n",
            "    }\n",
            "  ]\n",
            "}\n",
            "\n"
          ]
        },
        {
          "output_type": "stream",
          "name": "stderr",
          "text": [
            "DEBUG:openai.agents:LLM resp:\n",
            "{\n",
            "  \"content\": null,\n",
            "  \"refusal\": null,\n",
            "  \"role\": \"assistant\",\n",
            "  \"annotations\": null,\n",
            "  \"audio\": null,\n",
            "  \"function_call\": null,\n",
            "  \"tool_calls\": [\n",
            "    {\n",
            "      \"id\": \"\",\n",
            "      \"function\": {\n",
            "        \"arguments\": \"{}\",\n",
            "        \"name\": \"transfer_to_urdu_agent\"\n",
            "      },\n",
            "      \"type\": \"function\"\n",
            "    }\n",
            "  ]\n",
            "}\n",
            "\n"
          ]
        },
        {
          "output_type": "stream",
          "name": "stdout",
          "text": [
            "Tracing is disabled. Not creating span <agents.tracing.span_data.HandoffSpanData object at 0x7deeca2c13b0>\n",
            "Tracing is disabled. Not creating span <agents.tracing.span_data.HandoffSpanData object at 0x7deeca2c13b0>\n",
            "Tracing is disabled. Not creating span <agents.tracing.span_data.HandoffSpanData object at 0x7deeca2c13b0>\n",
            "Tracing is disabled. Not creating span <agents.tracing.span_data.HandoffSpanData object at 0x7deeca2c13b0>\n"
          ]
        },
        {
          "output_type": "stream",
          "name": "stderr",
          "text": [
            "DEBUG:openai.agents:Tracing is disabled. Not creating span <agents.tracing.span_data.HandoffSpanData object at 0x7deeca2c13b0>\n"
          ]
        },
        {
          "output_type": "stream",
          "name": "stdout",
          "text": [
            "Tracing is disabled. Not creating span <agents.tracing.span_data.AgentSpanData object at 0x7deec93c34d0>\n",
            "Tracing is disabled. Not creating span <agents.tracing.span_data.AgentSpanData object at 0x7deec93c34d0>\n",
            "Tracing is disabled. Not creating span <agents.tracing.span_data.AgentSpanData object at 0x7deec93c34d0>\n",
            "Tracing is disabled. Not creating span <agents.tracing.span_data.AgentSpanData object at 0x7deec93c34d0>\n"
          ]
        },
        {
          "output_type": "stream",
          "name": "stderr",
          "text": [
            "DEBUG:openai.agents:Tracing is disabled. Not creating span <agents.tracing.span_data.AgentSpanData object at 0x7deec93c34d0>\n"
          ]
        },
        {
          "output_type": "stream",
          "name": "stdout",
          "text": [
            "Running agent urdu_agent (turn 2)\n",
            "Running agent urdu_agent (turn 2)\n",
            "Running agent urdu_agent (turn 2)\n",
            "Running agent urdu_agent (turn 2)\n"
          ]
        },
        {
          "output_type": "stream",
          "name": "stderr",
          "text": [
            "DEBUG:openai.agents:Running agent urdu_agent (turn 2)\n"
          ]
        },
        {
          "output_type": "stream",
          "name": "stdout",
          "text": [
            "Tracing is disabled. Not creating span <agents.tracing.span_data.GenerationSpanData object at 0x7deeca3c8ad0>\n",
            "Tracing is disabled. Not creating span <agents.tracing.span_data.GenerationSpanData object at 0x7deeca3c8ad0>\n",
            "Tracing is disabled. Not creating span <agents.tracing.span_data.GenerationSpanData object at 0x7deeca3c8ad0>\n",
            "Tracing is disabled. Not creating span <agents.tracing.span_data.GenerationSpanData object at 0x7deeca3c8ad0>\n"
          ]
        },
        {
          "output_type": "stream",
          "name": "stderr",
          "text": [
            "DEBUG:openai.agents:Tracing is disabled. Not creating span <agents.tracing.span_data.GenerationSpanData object at 0x7deeca3c8ad0>\n"
          ]
        },
        {
          "output_type": "stream",
          "name": "stdout",
          "text": [
            "[\n",
            "  {\n",
            "    \"content\": \"You are a helpful assistant, who guide user whenver they wat to talk in urdu language.\",\n",
            "    \"role\": \"system\"\n",
            "  },\n",
            "  {\n",
            "    \"role\": \"user\",\n",
            "    \"content\": \"Convert \\\"I m a good girl\\\" in Urdu\"\n",
            "  },\n",
            "  {\n",
            "    \"role\": \"assistant\",\n",
            "    \"tool_calls\": [\n",
            "      {\n",
            "        \"id\": \"\",\n",
            "        \"type\": \"function\",\n",
            "        \"function\": {\n",
            "          \"name\": \"transfer_to_urdu_agent\",\n",
            "          \"arguments\": \"{}\"\n",
            "        }\n",
            "      }\n",
            "    ]\n",
            "  },\n",
            "  {\n",
            "    \"role\": \"tool\",\n",
            "    \"tool_call_id\": \"\",\n",
            "    \"content\": \"{\\\"assistant\\\": \\\"urdu_agent\\\"}\"\n",
            "  }\n",
            "]\n",
            "Tools:\n",
            "[]\n",
            "Stream: False\n",
            "Tool choice: NOT_GIVEN\n",
            "Response format: NOT_GIVEN\n",
            "\n",
            "[\n",
            "  {\n",
            "    \"content\": \"You are a helpful assistant, who guide user whenver they wat to talk in urdu language.\",\n",
            "    \"role\": \"system\"\n",
            "  },\n",
            "  {\n",
            "    \"role\": \"user\",\n",
            "    \"content\": \"Convert \\\"I m a good girl\\\" in Urdu\"\n",
            "  },\n",
            "  {\n",
            "    \"role\": \"assistant\",\n",
            "    \"tool_calls\": [\n",
            "      {\n",
            "        \"id\": \"\",\n",
            "        \"type\": \"function\",\n",
            "        \"function\": {\n",
            "          \"name\": \"transfer_to_urdu_agent\",\n",
            "          \"arguments\": \"{}\"\n",
            "        }\n",
            "      }\n",
            "    ]\n",
            "  },\n",
            "  {\n",
            "    \"role\": \"tool\",\n",
            "    \"tool_call_id\": \"\",\n",
            "    \"content\": \"{\\\"assistant\\\": \\\"urdu_agent\\\"}\"\n",
            "  }\n",
            "]\n",
            "Tools:\n",
            "[]\n",
            "Stream: False\n",
            "Tool choice: NOT_GIVEN\n",
            "Response format: NOT_GIVEN\n",
            "\n",
            "[\n",
            "  {\n",
            "    \"content\": \"You are a helpful assistant, who guide user whenver they wat to talk in urdu language.\",\n",
            "    \"role\": \"system\"\n",
            "  },\n",
            "  {\n",
            "    \"role\": \"user\",\n",
            "    \"content\": \"Convert \\\"I m a good girl\\\" in Urdu\"\n",
            "  },\n",
            "  {\n",
            "    \"role\": \"assistant\",\n",
            "    \"tool_calls\": [\n",
            "      {\n",
            "        \"id\": \"\",\n",
            "        \"type\": \"function\",\n",
            "        \"function\": {\n",
            "          \"name\": \"transfer_to_urdu_agent\",\n",
            "          \"arguments\": \"{}\"\n",
            "        }\n",
            "      }\n",
            "    ]\n",
            "  },\n",
            "  {\n",
            "    \"role\": \"tool\",\n",
            "    \"tool_call_id\": \"\",\n",
            "    \"content\": \"{\\\"assistant\\\": \\\"urdu_agent\\\"}\"\n",
            "  }\n",
            "]\n",
            "Tools:\n",
            "[]\n",
            "Stream: False\n",
            "Tool choice: NOT_GIVEN\n",
            "Response format: NOT_GIVEN\n",
            "\n",
            "[\n",
            "  {\n",
            "    \"content\": \"You are a helpful assistant, who guide user whenver they wat to talk in urdu language.\",\n",
            "    \"role\": \"system\"\n",
            "  },\n",
            "  {\n",
            "    \"role\": \"user\",\n",
            "    \"content\": \"Convert \\\"I m a good girl\\\" in Urdu\"\n",
            "  },\n",
            "  {\n",
            "    \"role\": \"assistant\",\n",
            "    \"tool_calls\": [\n",
            "      {\n",
            "        \"id\": \"\",\n",
            "        \"type\": \"function\",\n",
            "        \"function\": {\n",
            "          \"name\": \"transfer_to_urdu_agent\",\n",
            "          \"arguments\": \"{}\"\n",
            "        }\n",
            "      }\n",
            "    ]\n",
            "  },\n",
            "  {\n",
            "    \"role\": \"tool\",\n",
            "    \"tool_call_id\": \"\",\n",
            "    \"content\": \"{\\\"assistant\\\": \\\"urdu_agent\\\"}\"\n",
            "  }\n",
            "]\n",
            "Tools:\n",
            "[]\n",
            "Stream: False\n",
            "Tool choice: NOT_GIVEN\n",
            "Response format: NOT_GIVEN\n",
            "\n"
          ]
        },
        {
          "output_type": "stream",
          "name": "stderr",
          "text": [
            "DEBUG:openai.agents:[\n",
            "  {\n",
            "    \"content\": \"You are a helpful assistant, who guide user whenver they wat to talk in urdu language.\",\n",
            "    \"role\": \"system\"\n",
            "  },\n",
            "  {\n",
            "    \"role\": \"user\",\n",
            "    \"content\": \"Convert \\\"I m a good girl\\\" in Urdu\"\n",
            "  },\n",
            "  {\n",
            "    \"role\": \"assistant\",\n",
            "    \"tool_calls\": [\n",
            "      {\n",
            "        \"id\": \"\",\n",
            "        \"type\": \"function\",\n",
            "        \"function\": {\n",
            "          \"name\": \"transfer_to_urdu_agent\",\n",
            "          \"arguments\": \"{}\"\n",
            "        }\n",
            "      }\n",
            "    ]\n",
            "  },\n",
            "  {\n",
            "    \"role\": \"tool\",\n",
            "    \"tool_call_id\": \"\",\n",
            "    \"content\": \"{\\\"assistant\\\": \\\"urdu_agent\\\"}\"\n",
            "  }\n",
            "]\n",
            "Tools:\n",
            "[]\n",
            "Stream: False\n",
            "Tool choice: NOT_GIVEN\n",
            "Response format: NOT_GIVEN\n",
            "\n"
          ]
        },
        {
          "output_type": "stream",
          "name": "stdout",
          "text": [
            "LLM resp:\n",
            "{\n",
            "  \"content\": \"\\\"میں ایک اچھی لڑکی ہوں\\\" (Mein ek achi larki hoon).\",\n",
            "  \"refusal\": null,\n",
            "  \"role\": \"assistant\",\n",
            "  \"annotations\": null,\n",
            "  \"audio\": null,\n",
            "  \"function_call\": null,\n",
            "  \"tool_calls\": null\n",
            "}\n",
            "\n",
            "LLM resp:\n",
            "{\n",
            "  \"content\": \"\\\"میں ایک اچھی لڑکی ہوں\\\" (Mein ek achi larki hoon).\",\n",
            "  \"refusal\": null,\n",
            "  \"role\": \"assistant\",\n",
            "  \"annotations\": null,\n",
            "  \"audio\": null,\n",
            "  \"function_call\": null,\n",
            "  \"tool_calls\": null\n",
            "}\n",
            "\n",
            "LLM resp:\n",
            "{\n",
            "  \"content\": \"\\\"میں ایک اچھی لڑکی ہوں\\\" (Mein ek achi larki hoon).\",\n",
            "  \"refusal\": null,\n",
            "  \"role\": \"assistant\",\n",
            "  \"annotations\": null,\n",
            "  \"audio\": null,\n",
            "  \"function_call\": null,\n",
            "  \"tool_calls\": null\n",
            "}\n",
            "\n",
            "LLM resp:\n",
            "{\n",
            "  \"content\": \"\\\"میں ایک اچھی لڑکی ہوں\\\" (Mein ek achi larki hoon).\",\n",
            "  \"refusal\": null,\n",
            "  \"role\": \"assistant\",\n",
            "  \"annotations\": null,\n",
            "  \"audio\": null,\n",
            "  \"function_call\": null,\n",
            "  \"tool_calls\": null\n",
            "}\n",
            "\n"
          ]
        },
        {
          "output_type": "stream",
          "name": "stderr",
          "text": [
            "DEBUG:openai.agents:LLM resp:\n",
            "{\n",
            "  \"content\": \"\\\"میں ایک اچھی لڑکی ہوں\\\" (Mein ek achi larki hoon).\",\n",
            "  \"refusal\": null,\n",
            "  \"role\": \"assistant\",\n",
            "  \"annotations\": null,\n",
            "  \"audio\": null,\n",
            "  \"function_call\": null,\n",
            "  \"tool_calls\": null\n",
            "}\n",
            "\n"
          ]
        },
        {
          "output_type": "stream",
          "name": "stdout",
          "text": [
            "Resetting current trace\n",
            "Resetting current trace\n",
            "Resetting current trace\n",
            "Resetting current trace\n"
          ]
        },
        {
          "output_type": "stream",
          "name": "stderr",
          "text": [
            "DEBUG:openai.agents:Resetting current trace\n"
          ]
        },
        {
          "output_type": "stream",
          "name": "stdout",
          "text": [
            "Response: \"میں ایک اچھی لڑکی ہوں\" (Mein ek achi larki hoon).\n"
          ]
        }
      ]
    }
  ],
  "metadata": {
    "colab": {
      "provenance": [],
      "toc_visible": true,
      "authorship_tag": "ABX9TyM4S/JUG8ihr6BIZYDaPMHd",
      "include_colab_link": true
    },
    "kernelspec": {
      "display_name": "Python 3",
      "name": "python3"
    },
    "language_info": {
      "name": "python"
    }
  },
  "nbformat": 4,
  "nbformat_minor": 0
}